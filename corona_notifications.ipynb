{
 "cells": [
  {
   "cell_type": "code",
   "execution_count": 5,
   "metadata": {},
   "outputs": [],
   "source": [
    "from plyer import notification\n",
    "import requests\n",
    "import time\n",
    "from bs4 import BeautifulSoup\n",
    "def notifyMe(title,message):\n",
    "    notification.notify(\n",
    "       title=title,\n",
    "       message=message,\n",
    "       app_icon=\"\",\n",
    "       timeout=200\n",
    "       )\n",
    "    \n",
    "def getData(url):\n",
    "    \n",
    "    r = requests.get(url)\n",
    "    return r.text\n",
    "    \n",
    "if __name__ == \"__main__\":\n",
    "   # notifyMe(\"ujjawal\",\"Lets stop the spread of this virus together\")\n",
    "    myHtmlData = getData('https://www.mohfw.gov.in/')\n",
    "    \n",
    "  \n",
    "    soup = BeautifulSoup(myHtmlData, 'html.parser')\n",
    " \n",
    "    \n",
    "    myDataStr = \"\"\n",
    "    \n",
    "    for tr in soup.find_all('tbody')[0].find_all('tr'):\n",
    "            myDataStr += tr.get_text()\n",
    "    myDataStr = myDataStr[1:]\n",
    "    itemList = myDataStr.split(\"\\n\\n\")\n",
    "    \n",
    "    states = ['Bihar']\n",
    "    \n",
    "    for item in itemList[1:22]:\n",
    "        datalist=item.split('\\n')\n",
    "        if datalist[1] in states:\n",
    "            #print(datalist)\n",
    "            covidtitle ='Software developed by ujjawal Covid-19'\n",
    "            covidText = f\"{datalist[1]}\\n New_patient: {datalist[2]}\\n Recovered: {datalist[3]}\\n Deaths: {datalist[4]}\"\n",
    "            notifyMe(covidtitle,covidText)\n",
    "            time.sleep(2)\n",
    "\n",
    "    "
   ]
  },
  {
   "cell_type": "code",
   "execution_count": null,
   "metadata": {},
   "outputs": [],
   "source": []
  },
  {
   "cell_type": "code",
   "execution_count": null,
   "metadata": {},
   "outputs": [],
   "source": []
  },
  {
   "cell_type": "code",
   "execution_count": null,
   "metadata": {},
   "outputs": [],
   "source": []
  },
  {
   "cell_type": "code",
   "execution_count": null,
   "metadata": {},
   "outputs": [],
   "source": []
  },
  {
   "cell_type": "code",
   "execution_count": null,
   "metadata": {},
   "outputs": [],
   "source": []
  },
  {
   "cell_type": "code",
   "execution_count": null,
   "metadata": {},
   "outputs": [],
   "source": []
  }
 ],
 "metadata": {
  "kernelspec": {
   "display_name": "Python 3",
   "language": "python",
   "name": "python3"
  },
  "language_info": {
   "codemirror_mode": {
    "name": "ipython",
    "version": 3
   },
   "file_extension": ".py",
   "mimetype": "text/x-python",
   "name": "python",
   "nbconvert_exporter": "python",
   "pygments_lexer": "ipython3",
   "version": "3.8.2"
  }
 },
 "nbformat": 4,
 "nbformat_minor": 4
}
